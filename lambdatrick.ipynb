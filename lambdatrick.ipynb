{
 "cells": [
  {
   "cell_type": "code",
   "execution_count": 4,
   "metadata": {},
   "outputs": [
    {
     "name": "stdout",
     "output_type": "stream",
     "text": [
      "Generating random data...\n",
      "Custom Random list for training data ['8', '8', '6', '2', ' ', '5', '0', '3', '5', '3', '+', '0', '0', ' ', '9', '9', '3', '1', '0', ' ', '0', '5', '2', '+', '2', '0', '4', '1', '+', '6', '6', '3', '0', '0', '5', '2', '+', '8', '9', '4', '1', '1', ' ', '+', '1', '1', '6', '0', '7', '6']\n"
     ]
    }
   ],
   "source": [
    "# by: Peter Mankowski\n",
    "import numpy as np\n",
    "\n",
    "def displ(u):\n",
    "    print('Custom Random list for training data', u)\n",
    "\n",
    "# All the numbers, plus sign and space for padding.\n",
    "chars = '0123456789+ '\n",
    "\n",
    "rm_list = []\n",
    "print('Generating random data...')\n",
    "for x in range(0,50):\n",
    "    f = np.random.choice(list(chars))\n",
    "    rm_list.append(f)\n",
    "    \n",
    "displ(rm_list)"
   ]
  },
  {
   "cell_type": "code",
   "execution_count": null,
   "metadata": {},
   "outputs": [],
   "source": []
  },
  {
   "cell_type": "code",
   "execution_count": null,
   "metadata": {},
   "outputs": [],
   "source": []
  }
 ],
 "metadata": {
  "kernelspec": {
   "display_name": "Python 3",
   "language": "python",
   "name": "python3"
  },
  "language_info": {
   "codemirror_mode": {
    "name": "ipython",
    "version": 3
   },
   "file_extension": ".py",
   "mimetype": "text/x-python",
   "name": "python",
   "nbconvert_exporter": "python",
   "pygments_lexer": "ipython3",
   "version": "3.7.4"
  }
 },
 "nbformat": 4,
 "nbformat_minor": 2
}
