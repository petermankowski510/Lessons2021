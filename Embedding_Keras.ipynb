{
 "cells": [
  {
   "cell_type": "code",
   "execution_count": 4,
   "metadata": {},
   "outputs": [],
   "source": [
    "from numpy import array\n",
    "from keras.preprocessing.text import one_hot\n",
    "from keras.preprocessing.sequence import pad_sequences\n",
    "from keras.models import Sequential\n",
    "from keras.layers import Dense\n",
    "from keras.layers import Flatten\n",
    "from keras.layers.embeddings import Embedding\n",
    "# define documents\n",
    "docs = ['Well done!',\n",
    "\t\t'Good work',\n",
    "\t\t'Great effort',\n",
    "\t\t'nice work',\n",
    "\t\t'Excellent work nice',\n",
    "\t\t'Weak',\n",
    "\t\t'Poor effort!',\n",
    "\t\t'not good',\n",
    "\t\t'poor work',\n",
    "\t\t'Could have done better.']\n",
    "# define class labels\n",
    "labels = array([1,1,1,1,1,0,0,0,0,0])\n",
    "# integer encode the documents\n",
    "vocab_size = 50\n"
   ]
  },
  {
   "cell_type": "code",
   "execution_count": 5,
   "metadata": {},
   "outputs": [
    {
     "name": "stdout",
     "output_type": "stream",
     "text": [
      "[[35, 47], [6, 21], [25, 45], [5, 21], [17, 21, 5], [8], [31, 45], [47, 6], [31, 21], [32, 25, 47, 6]]\n",
      "[[35 47  0  0]\n",
      " [ 6 21  0  0]\n",
      " [25 45  0  0]\n",
      " [ 5 21  0  0]\n",
      " [17 21  5  0]\n",
      " [ 8  0  0  0]\n",
      " [31 45  0  0]\n",
      " [47  6  0  0]\n",
      " [31 21  0  0]\n",
      " [32 25 47  6]]\n"
     ]
    }
   ],
   "source": [
    "encoded_docs = [one_hot(d, vocab_size) for d in docs]\n",
    "print(encoded_docs)\n",
    "# pad documents to a max length of 4 words\n",
    "max_length = 4\n",
    "padded_docs = pad_sequences(encoded_docs, maxlen=max_length, padding='post')\n",
    "print(padded_docs)"
   ]
  },
  {
   "cell_type": "code",
   "execution_count": 6,
   "metadata": {},
   "outputs": [
    {
     "name": "stdout",
     "output_type": "stream",
     "text": [
      "Model: \"sequential_2\"\n",
      "_________________________________________________________________\n",
      "Layer (type)                 Output Shape              Param #   \n",
      "=================================================================\n",
      "embedding_2 (Embedding)      (None, 4, 8)              400       \n",
      "_________________________________________________________________\n",
      "flatten_2 (Flatten)          (None, 32)                0         \n",
      "_________________________________________________________________\n",
      "dense_2 (Dense)              (None, 1)                 33        \n",
      "=================================================================\n",
      "Total params: 433\n",
      "Trainable params: 433\n",
      "Non-trainable params: 0\n",
      "_________________________________________________________________\n",
      "None\n"
     ]
    }
   ],
   "source": [
    "# define the model\n",
    "model = Sequential()\n",
    "model.add(Embedding(vocab_size, 8, input_length=max_length))\n",
    "model.add(Flatten())\n",
    "model.add(Dense(1, activation='sigmoid'))\n",
    "# compile the model\n",
    "model.compile(optimizer='adam', loss='binary_crossentropy', metrics=['accuracy'])\n",
    "# summarize the model\n",
    "print(model.summary())"
   ]
  },
  {
   "cell_type": "code",
   "execution_count": 7,
   "metadata": {},
   "outputs": [
    {
     "name": "stderr",
     "output_type": "stream",
     "text": [
      "C:\\Users\\seeho\\Anaconda3\\lib\\site-packages\\tensorflow_core\\python\\framework\\indexed_slices.py:433: UserWarning: Converting sparse IndexedSlices to a dense Tensor of unknown shape. This may consume a large amount of memory.\n",
      "  \"Converting sparse IndexedSlices to a dense Tensor of unknown shape. \"\n"
     ]
    },
    {
     "name": "stdout",
     "output_type": "stream",
     "text": [
      "Epoch 1/50\n",
      "10/10 [==============================] - 0s 45ms/step - loss: 0.6852 - accuracy: 0.8000\n",
      "Epoch 2/50\n",
      "10/10 [==============================] - 0s 400us/step - loss: 0.6836 - accuracy: 0.8000\n",
      "Epoch 3/50\n",
      "10/10 [==============================] - 0s 199us/step - loss: 0.6820 - accuracy: 0.8000\n",
      "Epoch 4/50\n",
      "10/10 [==============================] - 0s 399us/step - loss: 0.6804 - accuracy: 0.9000\n",
      "Epoch 5/50\n",
      "10/10 [==============================] - 0s 300us/step - loss: 0.6788 - accuracy: 0.9000\n",
      "Epoch 6/50\n",
      "10/10 [==============================] - 0s 201us/step - loss: 0.6772 - accuracy: 0.9000\n",
      "Epoch 7/50\n",
      "10/10 [==============================] - 0s 304us/step - loss: 0.6756 - accuracy: 0.9000\n",
      "Epoch 8/50\n",
      "10/10 [==============================] - 0s 199us/step - loss: 0.6740 - accuracy: 0.9000\n",
      "Epoch 9/50\n",
      "10/10 [==============================] - 0s 300us/step - loss: 0.6724 - accuracy: 0.9000\n",
      "Epoch 10/50\n",
      "10/10 [==============================] - 0s 100us/step - loss: 0.6708 - accuracy: 0.9000\n",
      "Epoch 11/50\n",
      "10/10 [==============================] - 0s 196us/step - loss: 0.6692 - accuracy: 0.9000\n",
      "Epoch 12/50\n",
      "10/10 [==============================] - 0s 300us/step - loss: 0.6676 - accuracy: 1.0000\n",
      "Epoch 13/50\n",
      "10/10 [==============================] - 0s 300us/step - loss: 0.6660 - accuracy: 1.0000\n",
      "Epoch 14/50\n",
      "10/10 [==============================] - 0s 201us/step - loss: 0.6643 - accuracy: 1.0000\n",
      "Epoch 15/50\n",
      "10/10 [==============================] - 0s 204us/step - loss: 0.6627 - accuracy: 1.0000\n",
      "Epoch 16/50\n",
      "10/10 [==============================] - 0s 300us/step - loss: 0.6611 - accuracy: 1.0000\n",
      "Epoch 17/50\n",
      "10/10 [==============================] - 0s 199us/step - loss: 0.6594 - accuracy: 1.0000\n",
      "Epoch 18/50\n",
      "10/10 [==============================] - 0s 299us/step - loss: 0.6578 - accuracy: 1.0000\n",
      "Epoch 19/50\n",
      "10/10 [==============================] - 0s 200us/step - loss: 0.6561 - accuracy: 1.0000\n",
      "Epoch 20/50\n",
      "10/10 [==============================] - 0s 201us/step - loss: 0.6545 - accuracy: 1.0000\n",
      "Epoch 21/50\n",
      "10/10 [==============================] - 0s 199us/step - loss: 0.6528 - accuracy: 1.0000\n",
      "Epoch 22/50\n",
      "10/10 [==============================] - 0s 301us/step - loss: 0.6511 - accuracy: 1.0000\n",
      "Epoch 23/50\n",
      "10/10 [==============================] - 0s 300us/step - loss: 0.6494 - accuracy: 1.0000\n",
      "Epoch 24/50\n",
      "10/10 [==============================] - 0s 200us/step - loss: 0.6477 - accuracy: 1.0000\n",
      "Epoch 25/50\n",
      "10/10 [==============================] - 0s 197us/step - loss: 0.6460 - accuracy: 1.0000\n",
      "Epoch 26/50\n",
      "10/10 [==============================] - 0s 200us/step - loss: 0.6443 - accuracy: 1.0000\n",
      "Epoch 27/50\n",
      "10/10 [==============================] - 0s 200us/step - loss: 0.6426 - accuracy: 1.0000\n",
      "Epoch 28/50\n",
      "10/10 [==============================] - 0s 200us/step - loss: 0.6408 - accuracy: 1.0000\n",
      "Epoch 29/50\n",
      "10/10 [==============================] - 0s 400us/step - loss: 0.6391 - accuracy: 1.0000\n",
      "Epoch 30/50\n",
      "10/10 [==============================] - 0s 99us/step - loss: 0.6373 - accuracy: 1.0000\n",
      "Epoch 31/50\n",
      "10/10 [==============================] - 0s 301us/step - loss: 0.6355 - accuracy: 1.0000\n",
      "Epoch 32/50\n",
      "10/10 [==============================] - 0s 204us/step - loss: 0.6338 - accuracy: 1.0000\n",
      "Epoch 33/50\n",
      "10/10 [==============================] - 0s 200us/step - loss: 0.6320 - accuracy: 1.0000\n",
      "Epoch 34/50\n",
      "10/10 [==============================] - 0s 100us/step - loss: 0.6302 - accuracy: 1.0000\n",
      "Epoch 35/50\n",
      "10/10 [==============================] - 0s 99us/step - loss: 0.6283 - accuracy: 1.0000\n",
      "Epoch 36/50\n",
      "10/10 [==============================] - 0s 399us/step - loss: 0.6265 - accuracy: 1.0000\n",
      "Epoch 37/50\n",
      "10/10 [==============================] - 0s 200us/step - loss: 0.6247 - accuracy: 1.0000\n",
      "Epoch 38/50\n",
      "10/10 [==============================] - 0s 200us/step - loss: 0.6228 - accuracy: 1.0000\n",
      "Epoch 39/50\n",
      "10/10 [==============================] - 0s 200us/step - loss: 0.6210 - accuracy: 1.0000\n",
      "Epoch 40/50\n",
      "10/10 [==============================] - 0s 701us/step - loss: 0.6191 - accuracy: 1.0000\n",
      "Epoch 41/50\n",
      "10/10 [==============================] - 0s 200us/step - loss: 0.6172 - accuracy: 1.0000\n",
      "Epoch 42/50\n",
      "10/10 [==============================] - 0s 200us/step - loss: 0.6153 - accuracy: 1.0000\n",
      "Epoch 43/50\n",
      "10/10 [==============================] - 0s 199us/step - loss: 0.6134 - accuracy: 1.0000\n",
      "Epoch 44/50\n",
      "10/10 [==============================] - 0s 200us/step - loss: 0.6115 - accuracy: 1.0000\n",
      "Epoch 45/50\n",
      "10/10 [==============================] - 0s 100us/step - loss: 0.6095 - accuracy: 1.0000\n",
      "Epoch 46/50\n",
      "10/10 [==============================] - 0s 302us/step - loss: 0.6076 - accuracy: 1.0000\n",
      "Epoch 47/50\n",
      "10/10 [==============================] - 0s 255us/step - loss: 0.6056 - accuracy: 1.0000\n",
      "Epoch 48/50\n",
      "10/10 [==============================] - 0s 200us/step - loss: 0.6037 - accuracy: 1.0000\n",
      "Epoch 49/50\n",
      "10/10 [==============================] - 0s 198us/step - loss: 0.6017 - accuracy: 1.0000\n",
      "Epoch 50/50\n",
      "10/10 [==============================] - 0s 200us/step - loss: 0.5997 - accuracy: 1.0000\n",
      "Accuracy: 100.000000\n"
     ]
    }
   ],
   "source": [
    "# fit the model\n",
    "model.fit(padded_docs, labels, epochs=50, verbose=1)\n",
    "# evaluate the model\n",
    "loss, accuracy = model.evaluate(padded_docs, labels, verbose=0)\n",
    "print('Accuracy: %f' % (accuracy*100))"
   ]
  },
  {
   "cell_type": "code",
   "execution_count": null,
   "metadata": {},
   "outputs": [],
   "source": []
  }
 ],
 "metadata": {
  "kernelspec": {
   "display_name": "Python 3",
   "language": "python",
   "name": "python3"
  },
  "language_info": {
   "codemirror_mode": {
    "name": "ipython",
    "version": 3
   },
   "file_extension": ".py",
   "mimetype": "text/x-python",
   "name": "python",
   "nbconvert_exporter": "python",
   "pygments_lexer": "ipython3",
   "version": "3.7.4"
  }
 },
 "nbformat": 4,
 "nbformat_minor": 4
}
