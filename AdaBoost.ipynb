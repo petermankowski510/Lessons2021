{
 "cells": [
  {
   "cell_type": "code",
   "execution_count": 1,
   "metadata": {},
   "outputs": [],
   "source": [
    "import pandas as pd\n",
    "import numpy as np\n",
    "import matplotlib.pyplot as plt\n",
    "from sklearn.model_selection import train_test_split\n",
    "from sklearn.ensemble import AdaBoostClassifier\n",
    "import warnings\n",
    "warnings.filterwarnings(\"ignore\")"
   ]
  },
  {
   "cell_type": "code",
   "execution_count": 2,
   "metadata": {},
   "outputs": [
    {
     "name": "stdout",
     "output_type": "stream",
     "text": [
      "(150, 6)\n",
      "   Id  SepalLengthCm  SepalWidthCm  PetalLengthCm  PetalWidthCm      Species\n",
      "0   1            5.1           3.5            1.4           0.2  Iris-setosa\n",
      "1   2            4.9           3.0            1.4           0.2  Iris-setosa\n"
     ]
    }
   ],
   "source": [
    "data = pd.read_csv(\"Iris.csv\")\n",
    "  \n",
    "# Printing the shape of the dataset\n",
    "print(data.shape)\n",
    "print(data.head(2))"
   ]
  },
  {
   "cell_type": "code",
   "execution_count": 3,
   "metadata": {},
   "outputs": [
    {
     "name": "stdout",
     "output_type": "stream",
     "text": [
      "Shape of X is (150, 4) and shape of y is (150,)\n"
     ]
    }
   ],
   "source": [
    "\"\"\"The first column is the Id column which has no relevance\"\"\"\n",
    "data = data.drop('Id',axis=1)\n",
    "\n",
    "X = data.iloc[:,:-1]\n",
    "y = data.iloc[:,-1]\n",
    "print(\"Shape of X is %s and shape of y is %s\"%(X.shape,y.shape))"
   ]
  },
  {
   "cell_type": "code",
   "execution_count": 4,
   "metadata": {},
   "outputs": [
    {
     "name": "stdout",
     "output_type": "stream",
     "text": [
      "Number of unique species in dataset are:  3\n"
     ]
    }
   ],
   "source": [
    "total_classes = y.nunique()\n",
    "print(\"Number of unique species in dataset are: \",total_classes)"
   ]
  },
  {
   "cell_type": "code",
   "execution_count": 5,
   "metadata": {},
   "outputs": [
    {
     "name": "stdout",
     "output_type": "stream",
     "text": [
      "Distribution for each class\n",
      " Iris-virginica     50\n",
      "Iris-versicolor    50\n",
      "Iris-setosa        50\n",
      "Name: Species, dtype: int64\n"
     ]
    }
   ],
   "source": [
    "distribution = y.value_counts()\n",
    "print(\"Distribution for each class\\n\", distribution)"
   ]
  },
  {
   "cell_type": "code",
   "execution_count": 6,
   "metadata": {},
   "outputs": [],
   "source": [
    "t=0.25\n",
    "X_train,X_val,Y_train,Y_val = train_test_split(X,y,test_size=t,random_state=28)"
   ]
  },
  {
   "cell_type": "code",
   "execution_count": 7,
   "metadata": {},
   "outputs": [],
   "source": [
    "# Creating adaboost classifier model\n",
    "adb = AdaBoostClassifier(base_estimator=None, n_estimators=150, learning_rate=0.5, \n",
    "                         algorithm='SAMME.R', random_state=None)\n",
    "adb_model = adb.fit(X_train,Y_train)"
   ]
  },
  {
   "cell_type": "code",
   "execution_count": 8,
   "metadata": {},
   "outputs": [
    {
     "name": "stdout",
     "output_type": "stream",
     "text": [
      "The accuracy of the model on validation set is 0.9210526315789473\n"
     ]
    }
   ],
   "source": [
    "print(\"The accuracy of the model on validation set is\", adb_model.score(X_val,Y_val))"
   ]
  },
  {
   "cell_type": "code",
   "execution_count": null,
   "metadata": {},
   "outputs": [],
   "source": []
  }
 ],
 "metadata": {
  "kernelspec": {
   "display_name": "Python 3",
   "language": "python",
   "name": "python3"
  },
  "language_info": {
   "codemirror_mode": {
    "name": "ipython",
    "version": 3
   },
   "file_extension": ".py",
   "mimetype": "text/x-python",
   "name": "python",
   "nbconvert_exporter": "python",
   "pygments_lexer": "ipython3",
   "version": "3.7.4"
  }
 },
 "nbformat": 4,
 "nbformat_minor": 4
}
