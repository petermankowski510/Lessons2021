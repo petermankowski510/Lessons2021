{
 "cells": [
  {
   "cell_type": "code",
   "execution_count": null,
   "metadata": {},
   "outputs": [],
   "source": [
    "import keras\n",
    "from keras.datasets import boston_housing\n",
    "from keras import models\n",
    "from keras import layers\n",
    "from keras.models import load_model\n",
    "\n",
    "(train_data, train_targets), (test_data, test_targets)= boston_housing.load_data()\n",
    "\n",
    "mean = train_data.mean(axis = 0)\n",
    "train_data-= mean\n",
    "std = train_data.std(axis = 0)\n",
    "\n",
    "train_data/= std\n",
    "test_data-= mean\n",
    "test_data/= std\n"
   ]
  },
  {
   "cell_type": "code",
   "execution_count": null,
   "metadata": {},
   "outputs": [],
   "source": [
    "# Simple model to test   \n",
    "model = models.Sequential()\n",
    "model.add(layers.Dense(64, activation =\"selu\", input_shape =(train_data.shape[1], )))\n",
    "model.add(layers.Dense(64, activation =\"selu\"))\n",
    "model.add(layers.Dense(1))\n",
    "model.compile(optimizer =\"rmsprop\", loss =\"mse\", metrics =[\"mae\"])\n",
    "loss, accuracy = model.evaluate(test_data, test_targets)"
   ]
  },
  {
   "cell_type": "code",
   "execution_count": null,
   "metadata": {},
   "outputs": [],
   "source": [
    "print(loss, accuracy)"
   ]
  },
  {
   "cell_type": "code",
   "execution_count": null,
   "metadata": {},
   "outputs": [],
   "source": [
    "model.save(\"network.h5\")\n",
    "loaded_model = load_model(\"network.h5\")\n",
    "loss2, accuracy2 = loaded_model.evaluate(test_data, test_targets)"
   ]
  },
  {
   "cell_type": "code",
   "execution_count": null,
   "metadata": {},
   "outputs": [],
   "source": [
    "print(loss2, accuracy2)"
   ]
  },
  {
   "cell_type": "code",
   "execution_count": null,
   "metadata": {},
   "outputs": [],
   "source": []
  },
  {
   "cell_type": "code",
   "execution_count": null,
   "metadata": {},
   "outputs": [],
   "source": []
  }
 ],
 "metadata": {
  "kernelspec": {
   "display_name": "Python 3",
   "language": "python",
   "name": "python3"
  },
  "language_info": {
   "codemirror_mode": {
    "name": "ipython",
    "version": 3
   },
   "file_extension": ".py",
   "mimetype": "text/x-python",
   "name": "python",
   "nbconvert_exporter": "python",
   "pygments_lexer": "ipython3",
   "version": "3.7.4"
  }
 },
 "nbformat": 4,
 "nbformat_minor": 4
}
