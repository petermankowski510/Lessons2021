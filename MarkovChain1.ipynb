{
 "cells": [
  {
   "cell_type": "code",
   "execution_count": 1,
   "metadata": {},
   "outputs": [
    {
     "name": "stdout",
     "output_type": "stream",
     "text": [
      "state1 . "
     ]
    }
   ],
   "source": [
    "\"\"\"Author: Peter Mankowski\n",
    "   Date: 19/03/2022\n",
    "Properties of Markov Chain:\n",
    "-Irreducible if we can go from one state to another in a single or more than one step.\n",
    "-Periodic if returning to it requires a multiple of some integer larger than 1, the greatest common divisor of all the \n",
    "          possible return path lengths will be the period of that state.\n",
    "-Transient if there is a non-zero probability that the chain will never return to the same state, otherwise, it is Recurrent.\n",
    "-Absorbing if there is no possible way to leave that state. Absorbing states do not have any outgoing transitions from it.\n",
    "\"\"\"\n",
    "import scipy.linalg\n",
    "import numpy as np\n",
    " \n",
    " \n",
    "\"\"\"Encoding two states to numbers-simple to follow\"\"\"\n",
    "state = [\"state1\", \"state2\"]\n",
    "n = 100\n",
    "\n",
    "\"\"\"Transition matrix to a variable\n",
    "                        state1       state2\n",
    "                    --------------------------\"\"\"\n",
    "MyMatrix = np.array([[0.65, 0.35], [0.7, 0.3]])\n",
    " \n",
    "\"\"\"Simulating a random walk on Markov chain\n",
    "with n steps. Random walk simply means that\n",
    "we start with an arbitrary state and then we\n",
    "move along to the end.\n",
    "\"\"\"\n",
    "StartingState = 0\n",
    "CurrentState = StartingState\n",
    " \n",
    "\"\"\"printing the stating state using state dictionary\"\"\"\n",
    "print(state[CurrentState], \".\", end=\" \")"
   ]
  },
  {
   "cell_type": "code",
   "execution_count": 2,
   "metadata": {},
   "outputs": [
    {
     "name": "stdout",
     "output_type": "stream",
     "text": [
      "state2 -> state2 -> state2 -> state1 -> state1 -> state2 -> state2 -> state1 -> state2 -> state2 -> state1 -> state2 -> state1 -> state1 -> state1 -> state1 -> state2 -> state2 -> state1 -> state1 -> state1 -> state1 -> state2 -> state1 -> state2 -> state1 -> state1 -> state1 -> state2 -> state1 -> state1 -> state1 -> state2 -> state1 -> state2 -> state2 -> state2 -> state2 -> state1 -> state2 -> state2 -> state1 -> state1 -> state2 -> state1 -> state2 -> state1 -> state1 -> state2 -> state1 -> state2 -> state2 -> state1 -> state1 -> state2 -> state1 -> state2 -> state1 -> state1 -> state1 -> state2 -> state1 -> state1 -> state1 -> state1 -> state1 -> state2 -> state1 -> state1 -> state1 -> state1 -> state1 -> state1 -> state2 -> state1 -> state1 -> state2 -> state1 -> state1 -> state1 -> state1 -> state2 -> state1 -> state2 -> state1 -> state1 -> state1 -> state2 -> state1 -> state1 -> state1 -> state1 -> state2 -> state1 -> state1 -> state2 -> state2 -> state1 -> state2 -> Walk completed\n",
      "left eigen vectors = \n",
      " [[ 0.89442719 -0.70710678]\n",
      " [ 0.4472136   0.70710678]] \n",
      "\n",
      "eigen values = \n",
      " [ 1.  +0.j -0.05+0.j]\n"
     ]
    },
    {
     "ename": "NameError",
     "evalue": "name 'pi' is not defined",
     "output_type": "error",
     "traceback": [
      "\u001b[1;31m---------------------------------------------------------------------------\u001b[0m",
      "\u001b[1;31mNameError\u001b[0m                                 Traceback (most recent call last)",
      "\u001b[1;32m<ipython-input-2-42670b61eea6>\u001b[0m in \u001b[0;36m<module>\u001b[1;34m\u001b[0m\n\u001b[0;32m     28\u001b[0m \u001b[1;31m# the above negative values we just have to normalize\u001b[0m\u001b[1;33m\u001b[0m\u001b[1;33m\u001b[0m\u001b[1;33m\u001b[0m\u001b[0m\n\u001b[0;32m     29\u001b[0m \u001b[0mprobability_distribution\u001b[0m \u001b[1;33m=\u001b[0m \u001b[0mleft\u001b[0m\u001b[1;33m[\u001b[0m\u001b[1;33m:\u001b[0m\u001b[1;33m,\u001b[0m \u001b[1;36m0\u001b[0m\u001b[1;33m]\u001b[0m\u001b[1;33m\u001b[0m\u001b[1;33m\u001b[0m\u001b[0m\n\u001b[1;32m---> 30\u001b[1;33m \u001b[0mprobability_distribution_normalized\u001b[0m \u001b[1;33m=\u001b[0m \u001b[1;33m[\u001b[0m\u001b[1;33m(\u001b[0m\u001b[0mx\u001b[0m\u001b[1;33m/\u001b[0m\u001b[0mnp\u001b[0m\u001b[1;33m.\u001b[0m\u001b[0msum\u001b[0m\u001b[1;33m(\u001b[0m\u001b[0mpi\u001b[0m\u001b[1;33m)\u001b[0m\u001b[1;33m)\u001b[0m\u001b[1;33m.\u001b[0m\u001b[0mreal\u001b[0m \u001b[1;32mfor\u001b[0m \u001b[0mx\u001b[0m \u001b[1;32min\u001b[0m \u001b[0mprobability_distribution\u001b[0m\u001b[1;33m]\u001b[0m\u001b[1;33m\u001b[0m\u001b[1;33m\u001b[0m\u001b[0m\n\u001b[0m\u001b[0;32m     31\u001b[0m \u001b[0mprobability_distribution_normalized\u001b[0m\u001b[1;33m\u001b[0m\u001b[1;33m\u001b[0m\u001b[0m\n",
      "\u001b[1;32m<ipython-input-2-42670b61eea6>\u001b[0m in \u001b[0;36m<listcomp>\u001b[1;34m(.0)\u001b[0m\n\u001b[0;32m     28\u001b[0m \u001b[1;31m# the above negative values we just have to normalize\u001b[0m\u001b[1;33m\u001b[0m\u001b[1;33m\u001b[0m\u001b[1;33m\u001b[0m\u001b[0m\n\u001b[0;32m     29\u001b[0m \u001b[0mprobability_distribution\u001b[0m \u001b[1;33m=\u001b[0m \u001b[0mleft\u001b[0m\u001b[1;33m[\u001b[0m\u001b[1;33m:\u001b[0m\u001b[1;33m,\u001b[0m \u001b[1;36m0\u001b[0m\u001b[1;33m]\u001b[0m\u001b[1;33m\u001b[0m\u001b[1;33m\u001b[0m\u001b[0m\n\u001b[1;32m---> 30\u001b[1;33m \u001b[0mprobability_distribution_normalized\u001b[0m \u001b[1;33m=\u001b[0m \u001b[1;33m[\u001b[0m\u001b[1;33m(\u001b[0m\u001b[0mx\u001b[0m\u001b[1;33m/\u001b[0m\u001b[0mnp\u001b[0m\u001b[1;33m.\u001b[0m\u001b[0msum\u001b[0m\u001b[1;33m(\u001b[0m\u001b[0mpi\u001b[0m\u001b[1;33m)\u001b[0m\u001b[1;33m)\u001b[0m\u001b[1;33m.\u001b[0m\u001b[0mreal\u001b[0m \u001b[1;32mfor\u001b[0m \u001b[0mx\u001b[0m \u001b[1;32min\u001b[0m \u001b[0mprobability_distribution\u001b[0m\u001b[1;33m]\u001b[0m\u001b[1;33m\u001b[0m\u001b[1;33m\u001b[0m\u001b[0m\n\u001b[0m\u001b[0;32m     31\u001b[0m \u001b[0mprobability_distribution_normalized\u001b[0m\u001b[1;33m\u001b[0m\u001b[1;33m\u001b[0m\u001b[0m\n",
      "\u001b[1;31mNameError\u001b[0m: name 'pi' is not defined"
     ]
    }
   ],
   "source": [
    "\"\"\"Count each state occurence\"\"\"\n",
    "cnt0=0\n",
    "cnt1=0\n",
    "\n",
    "while n-1:\n",
    "    # Deciding the next state using a random.choice()\n",
    "    # Probability to go to the next states from our current state\n",
    "    CurrentState = np.random.choice([0, 1], p=MyMatrix[CurrentState])\n",
    "    if CurrentState==0:\n",
    "        cnt0 += 1\n",
    "    elif CurrentState==1:\n",
    "        cnt1 += 1\n",
    "        \n",
    "    # printing the path of random walk\n",
    "    print(state[CurrentState], \"->\", end=\" \")\n",
    "    n -= 1\n",
    "print(\"Walk completed\")\n",
    " \n",
    "\"\"\"Stationary distribution of  Markov chain by Finding Left Eigen Vectors. \n",
    "Do you know as why only left part is required? :)\"\"\"\n",
    "MyValues, left = scipy.linalg.eig(MyMatrix, right=False, left=True)\n",
    " \n",
    "print(\"left eigen vectors = \\n\", left, \"\\n\")\n",
    "print(\"eigen values = \\n\", MyValues)\n",
    " \n",
    "# probability distribution so the sum of\n",
    "# the probabilities should be 1 To get that from\n",
    "# the above negative values we just have to normalize\n",
    "probability_distribution = left[:, 0]\n",
    "probability_distribution_normalized = [(x/np.sum(pi)).real for x in probability_distribution]\n",
    "probability_distribution_normalized"
   ]
  },
  {
   "cell_type": "code",
   "execution_count": null,
   "metadata": {},
   "outputs": [],
   "source": [
    "print(\"State1 occurence: \", cnt0)\n",
    "print(\"State2 occurence:: \", cnt1)"
   ]
  },
  {
   "cell_type": "code",
   "execution_count": null,
   "metadata": {},
   "outputs": [],
   "source": []
  },
  {
   "cell_type": "code",
   "execution_count": null,
   "metadata": {},
   "outputs": [],
   "source": []
  }
 ],
 "metadata": {
  "kernelspec": {
   "display_name": "Python 3",
   "language": "python",
   "name": "python3"
  },
  "language_info": {
   "codemirror_mode": {
    "name": "ipython",
    "version": 3
   },
   "file_extension": ".py",
   "mimetype": "text/x-python",
   "name": "python",
   "nbconvert_exporter": "python",
   "pygments_lexer": "ipython3",
   "version": "3.7.4"
  }
 },
 "nbformat": 4,
 "nbformat_minor": 4
}
