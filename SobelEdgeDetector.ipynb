{
 "cells": [
  {
   "cell_type": "code",
   "execution_count": 2,
   "metadata": {},
   "outputs": [],
   "source": [
    "import cv2\n",
    "import numpy as np\n",
    "\n",
    "window_name = ('Sobel Demo - Simple Edge Detector')\n",
    "scale = 1\n",
    "delta = 0\n",
    "\"\"\"\n",
    "The depth of the output image: CV_16S to avoid overflow.\n",
    "The cv2.CV_64F option is there to experiment with later \"\"\"\n",
    "ddepth16 = cv2.CV_16S\n",
    "ddepth64 = cv2.CV_64F\n",
    "\n",
    "cap = cv2.VideoCapture(0)\n",
    " \n",
    "while(1):\n",
    "    _, frame = cap.read()\n",
    "    \n",
    "    \"\"\"GaussianBlur calibration, noise issue compression\"\"\"\n",
    "    frame = cv2.GaussianBlur(frame, (3, 3), 0, cv2.BORDER_DEFAULT);\n",
    "     \n",
    "    # Convert to HSV for simpler calculations\n",
    "    hsv = cv2.cvtColor(frame, cv2.COLOR_BGR2HSV)\n",
    "     \n",
    "    # Calculation of Sobelx, note kernel=3 which will introduce inaccuracies\n",
    "    sobelx = cv2.Sobel(frame, ddepth16, 1,0, ksize=3, scale=scale, delta=delta, borderType=cv2.BORDER_DEFAULT)\n",
    "     \n",
    "    # Calculation of Sobely, note kernel=3 which will introduce inaccuracies\n",
    "    sobely = cv2.Sobel(frame, ddepth16, 0,1, ksize=3, scale=scale, delta=delta, borderType=cv2.BORDER_DEFAULT)\n",
    "    \n",
    "    abs_grad_x = cv2.convertScaleAbs(sobelx)\n",
    "    abs_grad_y = cv2.convertScaleAbs(sobely)\n",
    "    grad = cv2.addWeighted(abs_grad_x, 0.5, abs_grad_y, 0.5, 0)\n",
    "    \n",
    "    cv2.imshow(window_name, grad)\n",
    "    #cv2.waitKey(0)\n",
    "    \n",
    "    \"\"\"Press ESC to end\"\"\"\n",
    "    k = cv2.waitKey(5) & 0xFF\n",
    "    if k == 27:\n",
    "        break\n",
    " \n",
    "cv2.destroyAllWindows()\n",
    "cap.release()"
   ]
  },
  {
   "cell_type": "code",
   "execution_count": null,
   "metadata": {},
   "outputs": [],
   "source": []
  }
 ],
 "metadata": {
  "kernelspec": {
   "display_name": "Python 3",
   "language": "python",
   "name": "python3"
  },
  "language_info": {
   "codemirror_mode": {
    "name": "ipython",
    "version": 3
   },
   "file_extension": ".py",
   "mimetype": "text/x-python",
   "name": "python",
   "nbconvert_exporter": "python",
   "pygments_lexer": "ipython3",
   "version": "3.7.4"
  }
 },
 "nbformat": 4,
 "nbformat_minor": 4
}
