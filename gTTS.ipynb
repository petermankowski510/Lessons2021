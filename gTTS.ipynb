{
 "cells": [
  {
   "cell_type": "code",
   "execution_count": 10,
   "metadata": {},
   "outputs": [],
   "source": [
    "# Import the required module for text to speech conversion\n",
    "# pyglet, a cross-platform windowing and multimedia library for Python\n",
    "from gtts import gTTS\n",
    "from tempfile import TemporaryFile\n",
    "from time import sleep\n",
    "import os\n",
    "import pyglet\n",
    "import os"
   ]
  },
  {
   "cell_type": "code",
   "execution_count": 11,
   "metadata": {},
   "outputs": [],
   "source": [
    "# Save to the file only.\n",
    "en_text = 'For someone so admittedly shy in his childhood, Gandhi grew to become one of the greatest orators.'\n",
    "fr_text = 'Comment allez-vous? '\n",
    "\n",
    "tts_en = gTTS(en_text, lang='en', tld='co.in') # English with Indian accent\n",
    "tts_fr = gTTS(fr_text, lang='fr') # French\n",
    "\n",
    "with open('hello_bonjour.mp3', 'wb') as f:\n",
    "    tts_en.write_to_fp(f)\n",
    "    tts_fr.write_to_fp(f)"
   ]
  },
  {
   "cell_type": "code",
   "execution_count": 12,
   "metadata": {},
   "outputs": [],
   "source": [
    "# Play instantenously and remove the temp file after\n",
    "filename = 'temp.mp3'\n",
    "tts_en.save(filename)\n",
    "\n",
    "music = pyglet.media.load(filename, streaming=False)\n",
    "music.play()\n",
    "\n",
    "sleep(music.duration) #prevent from killing\n",
    "os.remove(filename) #remove temperory file"
   ]
  },
  {
   "cell_type": "code",
   "execution_count": null,
   "metadata": {},
   "outputs": [],
   "source": []
  }
 ],
 "metadata": {
  "kernelspec": {
   "display_name": "Python 3",
   "language": "python",
   "name": "python3"
  },
  "language_info": {
   "codemirror_mode": {
    "name": "ipython",
    "version": 3
   },
   "file_extension": ".py",
   "mimetype": "text/x-python",
   "name": "python",
   "nbconvert_exporter": "python",
   "pygments_lexer": "ipython3",
   "version": "3.7.4"
  }
 },
 "nbformat": 4,
 "nbformat_minor": 2
}
